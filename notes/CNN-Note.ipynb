{
 "cells": [
  {
   "cell_type": "markdown",
   "metadata": {},
   "source": [
    "## CNN ##\n",
    "1. spatial pattern을 찾기 위해 쓴다.\n",
    "2. NN에 비해 parameter를 줄여준다. NN은 3차원 데이터를 1차원으로 만들기 때문에 feature가 많아져 계산이 오래 걸린다.\n",
    "\n",
    "\n",
    "+ ((Conv-ReLU) * N - POOL?) * M - (FC-ReLU) * K, Softmax Classifier\n",
    "+ CNN은 layer가 많기 때문에 거의 ReLU를 쓴다."
   ]
  },
  {
   "cell_type": "markdown",
   "metadata": {},
   "source": [
    "### CONV layer ###\n",
    "+ CONV layer는 filter로 지역을 대표하는 값을 계산한다.\n",
    "+ filter의 depth는 input의 depth와 같아야한다.\n",
    "+ ex) input shape: (32,32,3), filter shape: (5,5,3), stride==1<br>after convolution: (28,28,1)\n",
    "+ 가중치와 data set의 작은 지역의 feature끼리 dot product를 계산한다."
   ]
  },
  {
   "cell_type": "markdown",
   "metadata": {},
   "source": [
    "### Pooling ###\n",
    "+ parameter양과 계산량을 줄이고, 결과적으로 overfitting을 방지한다.\n",
    "+ Max Pooling: 지역을 대표할 가장 큰 점수를 선택한다.\n",
    "+ Pooling은 써도 되고 안써도 된다. Pooling은 값을 heuristic적으로 버리는 것이기 때문에 Pooling 대신 layer를 더 쌓기도 한다.\n",
    "+ input shape: (Width W, Height H, Dimension D)\n",
    "+ hyperparameters: spatial extent F, stride S\n",
    "+ output shape: ((W-F)/S+1, (H-F)/S+1, D)"
   ]
  },
  {
   "cell_type": "markdown",
   "metadata": {},
   "source": [
    "### Fully Connected layer ###\n",
    "+ 마지막 fully connected layer는 class score를 계산한다."
   ]
  },
  {
   "cell_type": "markdown",
   "metadata": {},
   "source": [
    "### Padding ###\n",
    "+ output의 spatial size를 조절해준다.\n",
    "+ (input_vol - Conv_vol + 2Padding) / Stride + 1\n",
    "+ output의 크기를 유지하는데 쓴다. 가장자리의 지역 패턴을 찾기 위해서다?"
   ]
  }
 ],
 "metadata": {
  "kernelspec": {
   "display_name": "Python 3",
   "language": "python",
   "name": "python3"
  },
  "language_info": {
   "codemirror_mode": {
    "name": "ipython",
    "version": 3
   },
   "file_extension": ".py",
   "mimetype": "text/x-python",
   "name": "python",
   "nbconvert_exporter": "python",
   "pygments_lexer": "ipython3",
   "version": "3.6.8"
  }
 },
 "nbformat": 4,
 "nbformat_minor": 2
}
